import torch

def activation(x):
  return 1/(1+torch.exp(-x))
torch.manual_seed(7)

features=torch.randn((1,5))
weights=torch.randn_like(features)
bias=torch.randn((10,10))
y=activation(torch.sum(features*weights)+bias)
print(y)
