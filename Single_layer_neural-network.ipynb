{
  "nbformat": 4,
  "nbformat_minor": 0,
  "metadata": {
    "colab": {
      "name": "Untitled0.ipynb",
      "version": "0.3.2",
      "provenance": [],
      "include_colab_link": true
    },
    "kernelspec": {
      "name": "python3",
      "display_name": "Python 3"
    }
  },
  "cells": [
    {
      "cell_type": "markdown",
      "metadata": {
        "id": "view-in-github",
        "colab_type": "text"
      },
      "source": [
        "<a href=\"https://colab.research.google.com/github/syedrafayhashmi/Secure-and-Private-AI/blob/master/Single_layer_neural-network.ipynb\" target=\"_parent\"><img src=\"https://colab.research.google.com/assets/colab-badge.svg\" alt=\"Open In Colab\"/></a>"
      ]
    },
    {
      "cell_type": "code",
      "metadata": {
        "id": "rlvYHa9GcLDj",
        "colab_type": "code",
        "colab": {
          "base_uri": "https://localhost:8080/",
          "height": 357
        },
        "outputId": "39d8a62c-a5bf-4674-b873-33deb27b4f77"
      },
      "source": [
        "import torch\n",
        "\n",
        "def activation(x):\n",
        "  return 1/(1+torch.exp(-x))\n",
        "torch.manual_seed(7)\n",
        "\n",
        "features=torch.randn((1,5))\n",
        "weights=torch.randn_like(features)\n",
        "bias=torch.randn((10,10))\n",
        "y=activation(torch.sum(features*weights)+bias)\n",
        "print(y)"
      ],
      "execution_count": 23,
      "outputs": [
        {
          "output_type": "stream",
          "text": [
            "tensor([[0.1442, 0.2319, 0.2808, 0.0627, 0.0558, 0.0393, 0.1130, 0.3502, 0.0173,\n",
            "         0.2132],\n",
            "        [0.0355, 0.0342, 0.0549, 0.0729, 0.0174, 0.0882, 0.2645, 0.0665, 0.0569,\n",
            "         0.0701],\n",
            "        [0.1076, 0.2258, 0.2030, 0.4721, 0.0961, 0.0971, 0.1857, 0.1519, 0.0262,\n",
            "         0.1392],\n",
            "        [0.1703, 0.0340, 0.0071, 0.0456, 0.0921, 0.2601, 0.0861, 0.0412, 0.1658,\n",
            "         0.0915],\n",
            "        [0.3027, 0.0861, 0.0883, 0.2270, 0.2159, 0.1068, 0.4091, 0.3983, 0.0383,\n",
            "         0.0242],\n",
            "        [0.0716, 0.0695, 0.3941, 0.2009, 0.0680, 0.0139, 0.0578, 0.0858, 0.0467,\n",
            "         0.1998],\n",
            "        [0.0609, 0.1697, 0.2257, 0.3544, 0.1086, 0.0503, 0.4433, 0.2689, 0.1723,\n",
            "         0.4472],\n",
            "        [0.1128, 0.1868, 0.0571, 0.1399, 0.1857, 0.3638, 0.3046, 0.0289, 0.0733,\n",
            "         0.0818],\n",
            "        [0.1356, 0.1194, 0.0842, 0.1903, 0.0860, 0.0956, 0.2141, 0.0852, 0.3424,\n",
            "         0.1337],\n",
            "        [0.1622, 0.0911, 0.0363, 0.0591, 0.4409, 0.1992, 0.1539, 0.0515, 0.1060,\n",
            "         0.0752]])\n"
          ],
          "name": "stdout"
        }
      ]
    }
  ]
}